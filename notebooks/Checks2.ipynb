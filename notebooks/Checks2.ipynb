{
 "cells": [
  {
   "cell_type": "code",
   "execution_count": 1,
   "metadata": {},
   "outputs": [],
   "source": [
    "from sympy import *"
   ]
  },
  {
   "cell_type": "code",
   "execution_count": 4,
   "metadata": {},
   "outputs": [],
   "source": [
    "nx, ny = symbols('nx, ny')\n",
    "D11, D12, D21, D22 = symbols('D11, D12, D21, D22')\n",
    "Z11, Z12, Z21, Z22 = symbols('Z11, Z12, Z21, Z22')\n",
    "n = Matrix([[nx], [ny]])\n",
    "D = Matrix([[D11, D12], [D21, D22]])\n",
    "Z = Matrix([[Z11, Z12], [Z21, Z22]])"
   ]
  },
  {
   "cell_type": "code",
   "execution_count": 10,
   "metadata": {},
   "outputs": [
    {
     "data": {
      "text/latex": [
       "$\\displaystyle \\left[\\begin{matrix}D_{11} Z_{11} nx + D_{21} Z_{21} ny & D_{12} Z_{12} nx + D_{22} Z_{22} ny\\end{matrix}\\right]$"
      ],
      "text/plain": [
       "Matrix([[D11*Z11*nx + D21*Z21*ny, D12*Z12*nx + D22*Z22*ny]])"
      ]
     },
     "execution_count": 10,
     "metadata": {},
     "output_type": "execute_result"
    }
   ],
   "source": [
    "n.transpose()*D.multiply_elementwise(Z)"
   ]
  },
  {
   "cell_type": "code",
   "execution_count": 11,
   "metadata": {},
   "outputs": [
    {
     "data": {
      "text/latex": [
       "$\\displaystyle \\left[\\begin{matrix}D_{11} Z_{11} nx + D_{12} Z_{12} ny\\\\D_{21} Z_{21} nx + D_{22} Z_{22} ny\\end{matrix}\\right]$"
      ],
      "text/plain": [
       "Matrix([\n",
       "[D11*Z11*nx + D12*Z12*ny],\n",
       "[D21*Z21*nx + D22*Z22*ny]])"
      ]
     },
     "execution_count": 11,
     "metadata": {},
     "output_type": "execute_result"
    }
   ],
   "source": [
    "D.multiply_elementwise(Z)*n"
   ]
  },
  {
   "cell_type": "code",
   "execution_count": 15,
   "metadata": {},
   "outputs": [
    {
     "data": {
      "text/latex": [
       "$\\displaystyle \\left[\\begin{matrix}nix njx & niy njx\\\\nix njy & niy njy\\end{matrix}\\right]$"
      ],
      "text/plain": [
       "Matrix([\n",
       "[nix*njx, niy*njx],\n",
       "[nix*njy, niy*njy]])"
      ]
     },
     "execution_count": 15,
     "metadata": {},
     "output_type": "execute_result"
    }
   ],
   "source": [
    "nj = Matrix([['njx'], ['njy']])\n",
    "ni = Matrix([['nix'], ['niy']])\n",
    "nj*ni.transpose()"
   ]
  },
  {
   "cell_type": "code",
   "execution_count": null,
   "metadata": {},
   "outputs": [],
   "source": []
  }
 ],
 "metadata": {
  "kernelspec": {
   "display_name": "Python 3",
   "language": "python",
   "name": "python3"
  },
  "language_info": {
   "codemirror_mode": {
    "name": "ipython",
    "version": 3
   },
   "file_extension": ".py",
   "mimetype": "text/x-python",
   "name": "python",
   "nbconvert_exporter": "python",
   "pygments_lexer": "ipython3",
   "version": "3.9.6"
  }
 },
 "nbformat": 4,
 "nbformat_minor": 2
}
