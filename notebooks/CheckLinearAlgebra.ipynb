{
 "cells": [
  {
   "cell_type": "code",
   "execution_count": 5,
   "metadata": {},
   "outputs": [],
   "source": [
    "from sympy import *\n",
    "nx, ny, fx, fy, tau = symbols('nx, ny, fx, fy, tau')\n",
    "n = Matrix([[nx], [ny]])\n",
    "f = Matrix([[fx], [fy]])"
   ]
  },
  {
   "cell_type": "code",
   "execution_count": 9,
   "metadata": {},
   "outputs": [
    {
     "data": {
      "text/latex": [
       "$\\displaystyle \\left[\\begin{matrix}2 fx nx \\tau & \\tau \\left(fx ny + fy nx\\right)\\\\\\tau \\left(fx ny + fy nx\\right) & 2 fy ny \\tau\\end{matrix}\\right]$"
      ],
      "text/plain": [
       "Matrix([\n",
       "[        2*fx*nx*tau, tau*(fx*ny + fy*nx)],\n",
       "[tau*(fx*ny + fy*nx),         2*fy*ny*tau]])"
      ]
     },
     "metadata": {},
     "output_type": "display_data"
    }
   ],
   "source": [
    "Z = tau * (n*f.transpose() + f*n.transpose())\n",
    "display(Z)"
   ]
  },
  {
   "cell_type": "code",
   "execution_count": 12,
   "metadata": {},
   "outputs": [
    {
     "data": {
      "text/latex": [
       "$\\displaystyle \\left[\\begin{matrix}nix njx & niy njx\\\\nix njy & niy njy\\end{matrix}\\right]$"
      ],
      "text/plain": [
       "Matrix([\n",
       "[nix*njx, niy*njx],\n",
       "[nix*njy, niy*njy]])"
      ]
     },
     "execution_count": 12,
     "metadata": {},
     "output_type": "execute_result"
    }
   ],
   "source": [
    "nix, niy, njx, njy = symbols('nix, niy, njx, njy')\n",
    "ni = Matrix([[nix], [niy]])\n",
    "nj = Matrix([[njx], [njy]])\n",
    "nj*ni.transpose() "
   ]
  },
  {
   "cell_type": "code",
   "execution_count": 15,
   "metadata": {},
   "outputs": [
    {
     "data": {
      "text/latex": [
       "$\\displaystyle \\left[\\begin{matrix}nix z_{11} + niy z_{21} & nix z_{12} + niy z_{22}\\end{matrix}\\right]$"
      ],
      "text/plain": [
       "Matrix([[nix*z11 + niy*z21, nix*z12 + niy*z22]])"
      ]
     },
     "execution_count": 15,
     "metadata": {},
     "output_type": "execute_result"
    }
   ],
   "source": [
    "z11, z12, z21, z22 = symbols('z11, z12, z21, z22')\n",
    "Z1 = Matrix([[z11, z12], [z21, z22]]) \n",
    "ni.transpose()*Z1"
   ]
  },
  {
   "cell_type": "code",
   "execution_count": null,
   "metadata": {},
   "outputs": [],
   "source": []
  }
 ],
 "metadata": {
  "kernelspec": {
   "display_name": "Python 3",
   "language": "python",
   "name": "python3"
  },
  "language_info": {
   "codemirror_mode": {
    "name": "ipython",
    "version": 3
   },
   "file_extension": ".py",
   "mimetype": "text/x-python",
   "name": "python",
   "nbconvert_exporter": "python",
   "pygments_lexer": "ipython3",
   "version": "3.9.6"
  },
  "orig_nbformat": 4
 },
 "nbformat": 4,
 "nbformat_minor": 2
}
